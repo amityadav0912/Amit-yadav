{
  "nbformat": 4,
  "nbformat_minor": 0,
  "metadata": {
    "colab": {
      "name": "Amityadav.ipynb",
      "provenance": [],
      "collapsed_sections": []
    },
    "kernelspec": {
      "name": "python3",
      "display_name": "Python 3"
    },
    "language_info": {
      "name": "python"
    }
  },
  "cells": [
    {
      "cell_type": "code",
      "metadata": {
        "id": "BPXAdzwtC4UO"
      },
      "source": [
        "import hashlib\n"
      ],
      "execution_count": 1,
      "outputs": []
    },
    {
      "cell_type": "code",
      "metadata": {
        "colab": {
          "base_uri": "https://localhost:8080/"
        },
        "id": "6mT5yRWXDNfN",
        "outputId": "75234f2f-6aa5-4b50-bb15-ba867e43643d"
      },
      "source": [
        "print(hashlib.md5(\"This is a string\".encode('utf-8')).hexdigest())\n",
        "print(hashlib.md5(\"000005fab4534d05key9a055eb014e4e5d52write\".encode('utf-8')).hexdigest())\n"
      ],
      "execution_count": 2,
      "outputs": [
        {
          "output_type": "stream",
          "text": [
            "41fb5b5ae4d57c5ee528adb00e5e8e74\n",
            "f927aa1d44b04f82738f38a031977344\n"
          ],
          "name": "stdout"
        }
      ]
    },
    {
      "cell_type": "code",
      "metadata": {
        "colab": {
          "base_uri": "https://localhost:8080/"
        },
        "id": "JZSikdYmDYPw",
        "outputId": "700dc0d8-4d4b-412e-a7fe-706125105f95"
      },
      "source": [
        "print(hashlib.md5(\"This is a string\".encode('utf-8')).digest())\n",
        "print(hashlib.md5(\"000005fab4534d05key9a055eb014e4e5d52write\".encode('utf-8')).digest())"
      ],
      "execution_count": 3,
      "outputs": [
        {
          "output_type": "stream",
          "text": [
            "b'A\\xfb[Z\\xe4\\xd5|^\\xe5(\\xad\\xb0\\x0e^\\x8et'\n",
            "b\"\\xf9'\\xaa\\x1dD\\xb0O\\x82s\\x8f8\\xa01\\x97sD\"\n"
          ],
          "name": "stdout"
        }
      ]
    },
    {
      "cell_type": "code",
      "metadata": {
        "id": "APL5sy2mDSbR"
      },
      "source": [
        ""
      ],
      "execution_count": null,
      "outputs": []
    },
    {
      "cell_type": "code",
      "metadata": {
        "id": "3GTIxRZxDNUB"
      },
      "source": [
        ""
      ],
      "execution_count": null,
      "outputs": []
    }
  ]
}